{
 "cells": [
  {
   "cell_type": "code",
   "execution_count": 3,
   "metadata": {},
   "outputs": [
    {
     "name": "stdout",
     "output_type": "stream",
     "text": [
      "Total no of even no is 5\n",
      "Total no of odd no is 9\n",
      "Average of the even list is 52.0\n",
      "Average of the odd list is 66.55555555555556\n"
     ]
    }
   ],
   "source": [
    "# Q1.  Write a program to find average of all the even numbers, and\n",
    "# odd number that are present in the list. And also your program\n",
    "# shold be return no. of evens and odd are present in this list List\n",
    "# for your reference\n",
    "lst = [25,41,85,96,35,64,75,9,12,21,32,23,25,56]\n",
    "even=[]\n",
    "odd=[]\n",
    "sum=0\n",
    "for i in lst:\n",
    "    if i%2==0:\n",
    "        even.append(i)\n",
    "    else:\n",
    "        odd.append(i)\n",
    "a=len(even)\n",
    "print(f'Total no of even no is {a}')\n",
    "b=len(odd)\n",
    "print(f'Total no of odd no is {b}')\n",
    "for i in even:\n",
    "    sum+=i\n",
    "a=len(even)\n",
    "avg=sum/a\n",
    "print(\"Average of the even list is\",avg)\n",
    "for i in odd:\n",
    "    sum+=i\n",
    "a=len(odd)\n",
    "avg=sum/a\n",
    "print(\"Average of the odd list is\",avg)\n"
   ]
  },
  {
   "cell_type": "code",
   "execution_count": 29,
   "metadata": {},
   "outputs": [],
   "source": [
    "#Q2.   Write a program to find the target element from the list, with\n",
    "# linear search and Binary Search.\n",
    "\n",
    "def linear_search(num,target):\n",
    "    for i in range(len(num)):\n",
    "            if num[i]==int(target):\n",
    "                print(f\"Target element {target} is at {i+1} location\")\n",
    "\n",
    "\n",
    "def binary_serach(num,target):\n",
    "     low=0\n",
    "     high=len(num)-1\n",
    "     while low<=high:\n",
    "        mid=low+(high-low)//2\n",
    "        if num[mid]==target:\n",
    "            print(f\"Target element {target} is at {mid} location\")\n",
    "        elif num[mid]<target:\n",
    "            low=mid+1\n",
    "        else:\n",
    "             high=mid-1\n",
    "    \n",
    "input_string=input(\"Enter the elements of the list\")\n",
    "num=input_string.split()\n",
    "num=[int(n)for n in num]\n",
    "print(f\"LIST:{num}\")\n",
    "sorted_num=sorted(num)\n",
    "target=input(\"Enter the target element\") \n",
    "print(f\"target element: {target}\")\n",
    "\n",
    "\n",
    "linear_search(num,target)\n",
    "binary_serach(sorted_num,int(target))\n"
   ]
  },
  {
   "cell_type": "code",
   "execution_count": 7,
   "metadata": {},
   "outputs": [
    {
     "name": "stdout",
     "output_type": "stream",
     "text": [
      "LIST: [1, 2, 5, 4]\n",
      "Target element: 2\n",
      "BY LINEAR SEARCH\n",
      "Target element 2 is at 2 location\n"
     ]
    }
   ],
   "source": [
    "def linear_search(num, target):\n",
    "    print(\"BY LINEAR SEARCH\")\n",
    "    for i in range(len(num)):\n",
    "        if num[i] == int(target):\n",
    "            print(f\"Target element {target} is at {i+1} location\")\n",
    "\n",
    "\n",
    "input_string = input(\"Enter the elements of the list: \")\n",
    "num = input_string.split()\n",
    "num = [int(n) for n in num]\n",
    "print(f\"LIST: {num}\")\n",
    "target = input(\"Enter the target element: \")\n",
    "print(f\"Target element: {target}\")\n",
    "\n",
    "linear_search(num, target)"
   ]
  },
  {
   "cell_type": "code",
   "execution_count": 5,
   "metadata": {},
   "outputs": [
    {
     "name": "stdout",
     "output_type": "stream",
     "text": [
      "LIST: [1, 4, 5, 2, 3]\n",
      "SORTED ARRAY : [1, 2, 3, 4, 5]\n",
      "Target element: 5\n",
      "BY BINARY SEARCH\n",
      "Target element 5 is at 4 location\n"
     ]
    }
   ],
   "source": [
    "def binary_search(num, target):\n",
    "    print(\"BY BINARY SEARCH\")\n",
    "    low = 0\n",
    "    high = len(num) - 1\n",
    "    while low <= high:\n",
    "        mid = low + (high - low) // 2\n",
    "        if num[mid] == target:\n",
    "            print(f\"Target element {target} is at {mid+1} location\")\n",
    "            return\n",
    "        elif num[mid] < target:\n",
    "            low = mid + 1\n",
    "        else:\n",
    "            high = mid - 1\n",
    "    print(\"Target element not found in the list\")\n",
    "\n",
    "\n",
    "input_string = input(\"Enter the elements of the list: \")\n",
    "num = input_string.split()\n",
    "num = [int(n) for n in num]\n",
    "print(f\"LIST: {num}\")\n",
    "sorted_num = sorted(num)\n",
    "print(f\"SORTED ARRAY : {sorted_num}\")\n",
    "target = input(\"Enter the target element: \")\n",
    "print(f\"Target element: {target}\")\n",
    "\n",
    "binary_search(sorted_num, int(target))"
   ]
  },
  {
   "cell_type": "code",
   "execution_count": 13,
   "metadata": {},
   "outputs": [
    {
     "name": "stdout",
     "output_type": "stream",
     "text": [
      "SQUARE OF ALL THE ELEMENTS OF THE LIST : [25, 41, 85, 96, 35, 64, 75, 9, 12, 21, 32, 23, 25, 56] \n",
      "SQUARE : [625, 1681, 7225, 9216, 1225, 4096, 5625, 81, 144, 441, 1024, 529, 625, 3136]\n",
      "EVEN ELEMENTS OF THE LIST : [25, 41, 85, 96, 35, 64, 75, 9, 12, 21, 32, 23, 25, 56] \n",
      "EVEN NO. : [96, 64, 12, 32, 56]\n"
     ]
    }
   ],
   "source": [
    "# Q3.   Learn about list comprehension and write a program to\n",
    "# generate a list of square element from this given list and also\n",
    "# try to filter all the even numbers from the given list using list\n",
    "# comprehension.\n",
    "\n",
    "\n",
    "LST = [25,41,85,96,35,64,75,9,12,21,32,23,25,56]\n",
    "SQUARE=[x**2 for x in LST]\n",
    "print(f\"SQUARE OF ALL THE ELEMENTS OF THE LIST : {LST} \\nSQUARE : {SQUARE}\")\n",
    "\n",
    "EVEN=[x for x in LST if x%2==0]\n",
    "print(f\"EVEN ELEMENTS OF THE LIST : {LST} \\nEVEN NO. : {EVEN}\")\n",
    "\n"
   ]
  },
  {
   "cell_type": "code",
   "execution_count": null,
   "metadata": {},
   "outputs": [],
   "source": []
  }
 ],
 "metadata": {
  "kernelspec": {
   "display_name": "Python 3",
   "language": "python",
   "name": "python3"
  },
  "language_info": {
   "codemirror_mode": {
    "name": "ipython",
    "version": 3
   },
   "file_extension": ".py",
   "mimetype": "text/x-python",
   "name": "python",
   "nbconvert_exporter": "python",
   "pygments_lexer": "ipython3",
   "version": "3.12.3"
  }
 },
 "nbformat": 4,
 "nbformat_minor": 2
}
