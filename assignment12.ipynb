{
 "cells": [
  {
   "cell_type": "code",
   "execution_count": 1,
   "metadata": {},
   "outputs": [],
   "source": [
    "import numpy as np\n"
   ]
  },
  {
   "cell_type": "code",
   "execution_count": 6,
   "metadata": {},
   "outputs": [
    {
     "name": "stdout",
     "output_type": "stream",
     "text": [
      "Array: [[45 33 16 27 58]\n",
      " [50  0  1  5 35]\n",
      " [37 49 45 53 18]\n",
      " [53 27 12 36 11]\n",
      " [29 16  0  6 54]\n",
      " [30 50 48 40 55]\n",
      " [21 35 51 48 40]\n",
      " [51 50  3 25 41]\n",
      " [14 10  6  8  4]\n",
      " [37 47 22  3 16]\n",
      " [ 0 22 50 27  7]\n",
      " [43 50 59 49 34]]\n",
      "Average: 47.0\n",
      "Minimum: 34\n",
      "Maximum: 59\n",
      "Number of evens: 2\n"
     ]
    }
   ],
   "source": [
    "######### Q1\n",
    "\n",
    "def FUNCTIONS(arr):\n",
    "    last_row = arr[-1]\n",
    "    AVERAGE = np.mean(last_row)\n",
    "    MINIMUM = np.min(last_row)\n",
    "    MAXIMUM = np.max(last_row)\n",
    "    even=0\n",
    "    for i in last_row:\n",
    "        if i%2==0:\n",
    "            even+=1\n",
    "    print(\"Average:\", AVERAGE)\n",
    "    print(\"Minimum:\", MINIMUM)\n",
    "    print(\"Maximum:\", MAXIMUM)\n",
    "    print(\"Number of evens:\",even)\n",
    "\n",
    "arr = np.random.randint(0,60,size=(12, 5))\n",
    "print(\"Array:\",arr)\n",
    "    \n",
    "FUNCTIONS(arr)\n",
    "\n",
    "\n"
   ]
  },
  {
   "cell_type": "code",
   "execution_count": 12,
   "metadata": {},
   "outputs": [
    {
     "data": {
      "text/plain": [
       "array([[3, 2, 1],\n",
       "       [6, 5, 4],\n",
       "       [9, 8, 7]])"
      ]
     },
     "execution_count": 12,
     "metadata": {},
     "output_type": "execute_result"
    }
   ],
   "source": [
    "############ Q2\n",
    "A=np.array([[1 ,2 ,3 ],[4 ,5 ,6 ],[7,8,9]])\n",
    "A[:,::-1]\n"
   ]
  },
  {
   "cell_type": "code",
   "execution_count": null,
   "metadata": {},
   "outputs": [],
   "source": []
  }
 ],
 "metadata": {
  "kernelspec": {
   "display_name": "Python 3",
   "language": "python",
   "name": "python3"
  },
  "language_info": {
   "codemirror_mode": {
    "name": "ipython",
    "version": 3
   },
   "file_extension": ".py",
   "mimetype": "text/x-python",
   "name": "python",
   "nbconvert_exporter": "python",
   "pygments_lexer": "ipython3",
   "version": "3.12.3"
  }
 },
 "nbformat": 4,
 "nbformat_minor": 2
}
