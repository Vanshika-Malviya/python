{
 "cells": [
  {
   "cell_type": "code",
   "execution_count": 1,
   "metadata": {},
   "outputs": [],
   "source": [
    "import pandas as pd\n"
   ]
  },
  {
   "cell_type": "code",
   "execution_count": 7,
   "metadata": {},
   "outputs": [],
   "source": [
    "A=pd.read_csv(\"Used_Bikes.csv\")"
   ]
  },
  {
   "cell_type": "code",
   "execution_count": 20,
   "metadata": {},
   "outputs": [
    {
     "data": {
      "text/html": [
       "<div>\n",
       "<style scoped>\n",
       "    .dataframe tbody tr th:only-of-type {\n",
       "        vertical-align: middle;\n",
       "    }\n",
       "\n",
       "    .dataframe tbody tr th {\n",
       "        vertical-align: top;\n",
       "    }\n",
       "\n",
       "    .dataframe thead th {\n",
       "        text-align: right;\n",
       "    }\n",
       "</style>\n",
       "<table border=\"1\" class=\"dataframe\">\n",
       "  <thead>\n",
       "    <tr style=\"text-align: right;\">\n",
       "      <th></th>\n",
       "      <th>bike_name</th>\n",
       "      <th>price</th>\n",
       "      <th>city</th>\n",
       "      <th>kms_driven</th>\n",
       "      <th>owner</th>\n",
       "      <th>age</th>\n",
       "      <th>power</th>\n",
       "      <th>brand</th>\n",
       "    </tr>\n",
       "  </thead>\n",
       "  <tbody>\n",
       "    <tr>\n",
       "      <th>888</th>\n",
       "      <td>KTM RC 390cc</td>\n",
       "      <td>147000</td>\n",
       "      <td>Jaipur</td>\n",
       "      <td>15000</td>\n",
       "      <td>First Owner</td>\n",
       "      <td>6</td>\n",
       "      <td>390</td>\n",
       "      <td>KTM</td>\n",
       "    </tr>\n",
       "    <tr>\n",
       "      <th>4945</th>\n",
       "      <td>KTM Duke 390cc</td>\n",
       "      <td>200000</td>\n",
       "      <td>Jaipur</td>\n",
       "      <td>11700</td>\n",
       "      <td>First Owner</td>\n",
       "      <td>4</td>\n",
       "      <td>390</td>\n",
       "      <td>KTM</td>\n",
       "    </tr>\n",
       "    <tr>\n",
       "      <th>4948</th>\n",
       "      <td>KTM RC 390cc</td>\n",
       "      <td>175000</td>\n",
       "      <td>Jaipur</td>\n",
       "      <td>10880</td>\n",
       "      <td>First Owner</td>\n",
       "      <td>4</td>\n",
       "      <td>390</td>\n",
       "      <td>KTM</td>\n",
       "    </tr>\n",
       "    <tr>\n",
       "      <th>6073</th>\n",
       "      <td>KTM RC 200cc</td>\n",
       "      <td>190000</td>\n",
       "      <td>Jaipur</td>\n",
       "      <td>7902</td>\n",
       "      <td>First Owner</td>\n",
       "      <td>2</td>\n",
       "      <td>200</td>\n",
       "      <td>KTM</td>\n",
       "    </tr>\n",
       "    <tr>\n",
       "      <th>6159</th>\n",
       "      <td>KTM Duke 250cc</td>\n",
       "      <td>135000</td>\n",
       "      <td>Jaipur</td>\n",
       "      <td>12507</td>\n",
       "      <td>First Owner</td>\n",
       "      <td>4</td>\n",
       "      <td>250</td>\n",
       "      <td>KTM</td>\n",
       "    </tr>\n",
       "    <tr>\n",
       "      <th>6552</th>\n",
       "      <td>KTM RC 200cc</td>\n",
       "      <td>190000</td>\n",
       "      <td>Jaipur</td>\n",
       "      <td>7902</td>\n",
       "      <td>First Owner</td>\n",
       "      <td>2</td>\n",
       "      <td>200</td>\n",
       "      <td>KTM</td>\n",
       "    </tr>\n",
       "    <tr>\n",
       "      <th>6734</th>\n",
       "      <td>KTM RC 200cc</td>\n",
       "      <td>128000</td>\n",
       "      <td>Jaipur</td>\n",
       "      <td>15000</td>\n",
       "      <td>First Owner</td>\n",
       "      <td>4</td>\n",
       "      <td>200</td>\n",
       "      <td>KTM</td>\n",
       "    </tr>\n",
       "    <tr>\n",
       "      <th>7561</th>\n",
       "      <td>KTM Duke 250cc</td>\n",
       "      <td>150000</td>\n",
       "      <td>Jaipur</td>\n",
       "      <td>12500</td>\n",
       "      <td>First Owner</td>\n",
       "      <td>4</td>\n",
       "      <td>250</td>\n",
       "      <td>KTM</td>\n",
       "    </tr>\n",
       "  </tbody>\n",
       "</table>\n",
       "</div>"
      ],
      "text/plain": [
       "           bike_name   price    city  kms_driven        owner  age  power  \\\n",
       "888     KTM RC 390cc  147000  Jaipur       15000  First Owner    6    390   \n",
       "4945  KTM Duke 390cc  200000  Jaipur       11700  First Owner    4    390   \n",
       "4948    KTM RC 390cc  175000  Jaipur       10880  First Owner    4    390   \n",
       "6073    KTM RC 200cc  190000  Jaipur        7902  First Owner    2    200   \n",
       "6159  KTM Duke 250cc  135000  Jaipur       12507  First Owner    4    250   \n",
       "6552    KTM RC 200cc  190000  Jaipur        7902  First Owner    2    200   \n",
       "6734    KTM RC 200cc  128000  Jaipur       15000  First Owner    4    200   \n",
       "7561  KTM Duke 250cc  150000  Jaipur       12500  First Owner    4    250   \n",
       "\n",
       "     brand  \n",
       "888    KTM  \n",
       "4945   KTM  \n",
       "4948   KTM  \n",
       "6073   KTM  \n",
       "6159   KTM  \n",
       "6552   KTM  \n",
       "6734   KTM  \n",
       "7561   KTM  "
      ]
     },
     "execution_count": 20,
     "metadata": {},
     "output_type": "execute_result"
    }
   ],
   "source": [
    "####### Q1.\n",
    "CITY=A[(A[\"city\"]==\"Jaipur\")&(A[\"brand\"]==\"KTM\")]\n",
    "CITY"
   ]
  },
  {
   "cell_type": "code",
   "execution_count": 21,
   "metadata": {},
   "outputs": [
    {
     "name": "stdout",
     "output_type": "stream",
     "text": [
      "MIN price of bike in Jaipur is 128000\n"
     ]
    }
   ],
   "source": [
    "MIN_PRICE=CITY[\"price\"].min()\n",
    "print(f\"MIN price of bike in Jaipur is {MIN_PRICE}\")"
   ]
  },
  {
   "cell_type": "code",
   "execution_count": 12,
   "metadata": {},
   "outputs": [
    {
     "data": {
      "text/plain": [
       "bike_name     BMW F750 GS 850cc\n",
       "price                      5000\n",
       "city                      Delhi\n",
       "kms_driven                   40\n",
       "owner               First Owner\n",
       "age                           1\n",
       "power                       100\n",
       "brand                       BMW\n",
       "dtype: object"
      ]
     },
     "execution_count": 12,
     "metadata": {},
     "output_type": "execute_result"
    }
   ],
   "source": [
    "##########  Q2.\n",
    "DELHI=A[(A[\"city\"]==\"Delhi\")&(A[\"owner\"]==\"First Owner\")&(A[\"owner\"]==\"\")]\n",
    "DELHI"
   ]
  },
  {
   "cell_type": "code",
   "execution_count": 17,
   "metadata": {},
   "outputs": [
    {
     "name": "stdout",
     "output_type": "stream",
     "text": [
      "Maximum age of bike present at Delhi is 1 and minimum age of bike present at delhi is 1\n"
     ]
    }
   ],
   "source": [
    "minimum=DELHI[\"age\"].min()\n",
    "maximum=DELHI[\"age\"].max()\n",
    "\n",
    "print(f\"Maximum age of bike present at Delhi is {maximum} and minimum age of bike present at delhi is {minimum}\")"
   ]
  },
  {
   "cell_type": "code",
   "execution_count": null,
   "metadata": {},
   "outputs": [],
   "source": [
    "########## Q3.\n"
   ]
  }
 ],
 "metadata": {
  "kernelspec": {
   "display_name": "Python 3",
   "language": "python",
   "name": "python3"
  },
  "language_info": {
   "codemirror_mode": {
    "name": "ipython",
    "version": 3
   },
   "file_extension": ".py",
   "mimetype": "text/x-python",
   "name": "python",
   "nbconvert_exporter": "python",
   "pygments_lexer": "ipython3",
   "version": "3.12.3"
  }
 },
 "nbformat": 4,
 "nbformat_minor": 2
}
